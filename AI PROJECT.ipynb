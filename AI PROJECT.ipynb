{
 "cells": [
  {
   "cell_type": "code",
   "execution_count": 1,
   "metadata": {},
   "outputs": [
    {
     "name": "stdout",
     "output_type": "stream",
     "text": [
      "{'A': {'B': 1, 'C': 4, 'D': 2}, 'B': {'A': 9, 'E': 5}, 'C': {'A': 4, 'F': 15}, 'D': {'A': 10, 'F': 7}, 'E': {'B': 3, 'J': 7}, 'F': {'C': 11, 'D': 14, 'K': 3, 'G': 9}, 'G': {'F': 12, 'I': 4}, 'H': {'J': 13}, 'I': {'G': 6, 'J': 7}, 'J': {'H': 2, 'I': 4}, 'K': {'F': 6}}\n",
      "A\n",
      "B\n",
      "D\n",
      "C\n",
      "E\n",
      "F\n",
      "K\n",
      "J\n",
      "H\n",
      "I\n",
      "G\n",
      "The path between A to H\n",
      "H<-\n"
     ]
    }
   ],
   "source": [
    "def initial_graph() :\n",
    "    \n",
    "    return {\n",
    "            \n",
    "        'A': {'B':1, 'C':4, 'D':2},\n",
    "        'B': {'A':9, 'E':5},\n",
    "        'C': {'A':4, 'F':15},\n",
    "        'D': {'A':10, 'F':7},\n",
    "        'E': {'B':3, 'J':7},\n",
    "        'F': {'C':11, 'D':14, 'K':3, 'G':9},\n",
    "        'G': {'F':12, 'I':4},\n",
    "        'H': {'J':13},\n",
    "        'I': {'G':6, 'J':7},\n",
    "        'J': {'H':2, 'I':4},\n",
    "        'K': {'F':6}\n",
    "            \n",
    "            \n",
    "            \n",
    "            }\n",
    "print(initial_graph())\n",
    "    \n",
    "initial = 'A'\n",
    "path = {}\n",
    "adj_node = {}\n",
    "queue = []\n",
    "graph = initial_graph()\n",
    "for node in graph:\n",
    "    path[node] = float(\"inf\")\n",
    "    adj_node[node] = None\n",
    "    queue.append(node)\n",
    "    \n",
    "path[initial] = 0\n",
    "while queue:\n",
    "    # find min distance which wasn't marked as current\n",
    "    key_min = queue[0]\n",
    "    min_val = path[key_min]\n",
    "    for n in range(1, len(queue)):\n",
    "        if path[queue[n]] < min_val:\n",
    "            key_min = queue[n]  \n",
    "            min_val = path[key_min]\n",
    "    cur = key_min\n",
    "    queue.remove(cur)\n",
    "    print(cur)\n",
    "    \n",
    "    for i in graph[cur]:\n",
    "        alternate = graph[cur][i] + path[cur]\n",
    "        if path[i] > alternate:\n",
    "            path[i] = alternate\n",
    "            adj_node[i] = cur\n",
    "            \n",
    "            \n",
    "x = 'H'\n",
    "print('The path between A to H')\n",
    "print(x, end = '<-')\n",
    "while True:\n",
    "    x = adj_node[x]\n",
    "    if x is None:\n",
    "        print(\"\")\n",
    "        break\n",
    "        print(x, end='<-')"
   ]
  },
  {
   "cell_type": "code",
   "execution_count": null,
   "metadata": {},
   "outputs": [],
   "source": []
  }
 ],
 "metadata": {
  "kernelspec": {
   "display_name": "Python 3",
   "language": "python",
   "name": "python3"
  },
  "language_info": {
   "codemirror_mode": {
    "name": "ipython",
    "version": 3
   },
   "file_extension": ".py",
   "mimetype": "text/x-python",
   "name": "python",
   "nbconvert_exporter": "python",
   "pygments_lexer": "ipython3",
   "version": "3.6.5"
  }
 },
 "nbformat": 4,
 "nbformat_minor": 2
}
